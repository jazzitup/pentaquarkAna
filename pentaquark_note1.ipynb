{
 "cells": [
  {
   "cell_type": "code",
   "execution_count": 1,
   "id": "2aae96cf-5147-4e5b-815b-a1d13c5524e1",
   "metadata": {},
   "outputs": [],
   "source": [
    "#! /usr/bin/python\n",
    "         \n",
    "#Import relevant packages\n",
    "import ROOT, math, array                                \n",
    "from ROOT import TH1F, TH2F, TMath, TTree, TVector3, TVector2\n",
    "import uproot as up\n",
    "\n",
    "# Define and open files\n",
    "infile=\"./podio_files/podio_Pentaquark_hepmc_output_20241126E100-200GeV_eta1.9-7_100000evts_ip6_hidiv_275x18.root\" \n",
    "\n",
    "# Open input file and define branches we want to look at with uproot\n",
    "events_tree = up.open(infile)[\"events\"]\n",
    "\n",
    "# Define histograms below\n",
    "\n",
    "# Add main analysis loop(s) below\n",
    "\n",
    "# Write output histograms to file below                \n",
    "\n"
   ]
  },
  {
   "cell_type": "code",
   "execution_count": 4,
   "id": "03ac7e3d-fc16-4c3d-8a85-b91dfb0053da",
   "metadata": {},
   "outputs": [],
   "source": [
    "# Open input file and define branches we want to look at with uproot\n",
    "events_tree = up.open(infile)[\"events\"]\n",
    "# Get particle information# Get particle information\n",
    "partGenStat = events_tree[\"MCParticles.generatorStatus\"].array()\n",
    "partMomX = events_tree[\"MCParticles.momentum.x\"].array() \n",
    "partMomY = events_tree[\"MCParticles.momentum.y\"].array()\n",
    "partMomZ = events_tree[\"MCParticles.momentum.z\"].array()\n",
    "partPdg = events_tree[\"MCParticles.PDG\"].array()\n",
    "\n",
    "# Get reconstructed track information\n",
    "trackMomX = events_tree[\"ReconstructedChargedParticles.momentum.x\"].array()\n",
    "trackMomY = events_tree[\"ReconstructedChargedParticles.momentum.y\"].array()\n",
    "trackMomZ = events_tree[\"ReconstructedChargedParticles.momentum.z\"].array()\n"
   ]
  },
  {
   "cell_type": "code",
   "execution_count": null,
   "id": "35378f2f-2605-4337-9bea-6c8d21979a8e",
   "metadata": {},
   "outputs": [],
   "source": []
  }
 ],
 "metadata": {
  "kernelspec": {
   "display_name": "Python 3 (ipykernel)",
   "language": "python",
   "name": "python3"
  },
  "language_info": {
   "codemirror_mode": {
    "name": "ipython",
    "version": 3
   },
   "file_extension": ".py",
   "mimetype": "text/x-python",
   "name": "python",
   "nbconvert_exporter": "python",
   "pygments_lexer": "ipython3",
   "version": "3.12.7"
  }
 },
 "nbformat": 4,
 "nbformat_minor": 5
}
