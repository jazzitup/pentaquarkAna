{
 "cells": [
  {
   "cell_type": "markdown",
   "id": "3d05a11a-b7bc-4c64-acb6-4f1c73e59374",
   "metadata": {},
   "source": [
    "## First, let's calculate the momentum of pentaquark from e+p center of mass frame. "
   ]
  },
  {
   "cell_type": "code",
   "execution_count": 1,
   "id": "43fa893f-bbcc-442d-b4e8-82c0858ce844",
   "metadata": {},
   "outputs": [],
   "source": [
    "nEvents = 50000\n",
    "maxTrialNumbers = 1000000000"
   ]
  },
  {
   "cell_type": "code",
   "execution_count": 2,
   "id": "2c46a073-e097-4fa3-a79f-7296df21f444",
   "metadata": {},
   "outputs": [
    {
     "name": "stdout",
     "output_type": "stream",
     "text": [
      "theta range: 9.079985946258556e-05 ~ 0.29693606528712396\n",
      "Eta range: 1.9 ~ 10\n"
     ]
    }
   ],
   "source": [
    "import math\n",
    "from pylorentz import Momentum4\n",
    "import numpy as np\n",
    "import matplotlib.pyplot as plt\n",
    "from datetime import datetime\n",
    "\n",
    "\n",
    "\n",
    "# Define constants\n",
    "mass_pentaquark = 4.312  # GeV\n",
    "mass_jpsi = 3.097        # GeV\n",
    "mass_proton = 0.938      # GeV\n",
    "mass_electron = 0.000511        # GeV\n",
    "\n",
    "protonBeam_enegry = 275\n",
    "electronBeam_energy = 18\n",
    "\n",
    "# Not used anymore\n",
    "# pentquarkEnergy1 = 100  # GeV in lab frame Lower limit \n",
    "# pentquarkEnergy2 = 200  # GeV in lab frame Upper limit\n",
    "pentaquarkEtaLow = 10  # low angle cut for generation\n",
    "pentaquarkEtaHigh = 1.9 # high angle for generation\n",
    "pentaquarkTheta1 = 2*np.arctan( np.exp(-pentaquarkEtaLow))\n",
    "pentaquarkTheta2 = 2*np.arctan( np.exp(-pentaquarkEtaHigh))\n",
    "print (f\"theta range: {pentaquarkTheta1} ~ {pentaquarkTheta2}\")\n",
    "print (f\"Eta range: {pentaquarkEtaHigh} ~ {pentaquarkEtaLow}\")\n"
   ]
  },
  {
   "cell_type": "code",
   "execution_count": 3,
   "id": "d52c11f1-7cb7-46ff-807a-161e6b4c24d9",
   "metadata": {},
   "outputs": [],
   "source": [
    "mom4_protonBeam_lab = Momentum4(\n",
    "    protonBeam_enegry,   0,    0,   math.sqrt( protonBeam_enegry **2 - mass_proton**2) \n",
    ")\n",
    "mom4_electronBeam_lab = Momentum4(\n",
    "    electronBeam_energy,   0,    0,   -math.sqrt( electronBeam_energy **2 - mass_electron**2) \n",
    ")\n",
    "\n",
    "mom4_total_lab = mom4_protonBeam_lab + mom4_electronBeam_lab\n",
    "beta_x_total_lab = mom4_total_lab.p_x / mom4_total_lab.e\n",
    "beta_y_total_lab = mom4_total_lab.p_y / mom4_total_lab.e\n",
    "beta_z_total_lab = mom4_total_lab.p_z / mom4_total_lab.e\n",
    "beta_magnitude_total_lab = math.sqrt(beta_x_total_lab**2 + beta_y_total_lab**2 + beta_z_total_lab**2)\n",
    "\n",
    "# print (f\"COM energy = {mom4_total_lab.m} GeV\")\n",
    "# print (beta_x_total_lab)\n",
    "# print (beta_y_total_lab)\n",
    "# print (beta_z_total_lab)\n",
    "\n",
    "\n",
    "# Boost the beams to the COM frame\n",
    "mom4_protonBeam_COM = mom4_protonBeam_lab.boost(    beta_x_total_lab, beta_y_total_lab, beta_z_total_lab, beta = beta_magnitude_total_lab)\n",
    "mom4_electronBeam_COM = mom4_electronBeam_lab.boost(beta_x_total_lab, beta_y_total_lab, beta_z_total_lab, beta = beta_magnitude_total_lab)\n"
   ]
  },
  {
   "cell_type": "code",
   "execution_count": 4,
   "id": "64b5e1b4-2c7a-4855-b07c-8fc532268b39",
   "metadata": {},
   "outputs": [
    {
     "name": "stdout",
     "output_type": "stream",
     "text": [
      "Momentum4(275, 0, 0, 274.998)\n",
      "Momentum4(18, 0, 0, -18)\n",
      "Momentum4(70.3608, 0, 0, 70.3546)\n",
      "Momentum4(70.3546, 0, 0, -70.3546)\n",
      "mom_pc_COM = 70.29163005168488 GeV\n",
      "energy_pc_COM = 70.42376445009829 GeV\n",
      "energy_electron_COM = 70.29163005354229 GeV\n",
      "total energy = 140.7153945036406 GeV\n",
      "diff = 0.0\n"
     ]
    }
   ],
   "source": [
    "print( mom4_protonBeam_lab) \n",
    "print( mom4_electronBeam_lab) \n",
    "print (mom4_protonBeam_COM)\n",
    "print (mom4_electronBeam_COM)\n",
    "\n",
    "mom_pc_COM =  math.sqrt(((mom4_total_lab.m**2 + mass_electron**2 - mass_pentaquark**2)/(2*mom4_total_lab.m))**2 - mass_electron**2)\n",
    "energy_pc_COM = math.sqrt(mom_pc_COM**2 + mass_pentaquark**2)\n",
    "energy_electron_COM = math.sqrt(mom_pc_COM**2 + mass_electron**2)\n",
    "\n",
    "print (f\"mom_pc_COM = {mom_pc_COM} GeV\")\n",
    "print (f\"energy_pc_COM = {energy_pc_COM} GeV\")\n",
    "print (f\"energy_electron_COM = {energy_electron_COM} GeV\")\n",
    "print (f\"total energy = {energy_electron_COM+ energy_pc_COM } GeV\")\n",
    "print (f\"diff = {energy_electron_COM+ energy_pc_COM - mom4_total_lab.m}\")\n"
   ]
  },
  {
   "cell_type": "code",
   "execution_count": 5,
   "id": "f9c0e211-d671-4be0-837b-8e7a6e36bbff",
   "metadata": {},
   "outputs": [
    {
     "name": "stdout",
     "output_type": "stream",
     "text": [
      "COM frame: Momentum4(70.4238, 54.509, 29.3106, -33.3253)\n",
      "lab frame: Momentum4(85.7733, 54.509, 29.3106, 59.2294)\n",
      "theta = 0.8073591619523169\n",
      "eta = 0.8506497304498202\n"
     ]
    }
   ],
   "source": [
    "theta_pc_COM = np.arccos(2 * np.random.rand() - 1)  # Random polar angle\n",
    "phi_pc_COM = 2 * np.pi * np.random.rand() # random azimuthal angle\n",
    "\n",
    "mom4_pc_COM = Momentum4(\n",
    "    energy_pc_COM, \n",
    "    mom_pc_COM * np.sin(theta_pc_COM) * np.cos(phi_pc_COM),\n",
    "    mom_pc_COM * np.sin(theta_pc_COM) * np.sin(phi_pc_COM),\n",
    "    mom_pc_COM * np.cos(theta_pc_COM)\n",
    ")\n",
    "print (f\"COM frame: {mom4_pc_COM}\")\n",
    "\n",
    "mom4_pc_lab = mom4_pc_COM.boost( -beta_x_total_lab, -beta_y_total_lab, -beta_z_total_lab, beta = beta_magnitude_total_lab)\n",
    "print (f\"lab frame: {mom4_pc_lab}\")\n",
    "print (f\"theta = {mom4_pc_lab.theta}\")\n",
    "print (f\"eta = {mom4_pc_lab.eta}\")\n",
    "\n"
   ]
  },
  {
   "cell_type": "code",
   "execution_count": null,
   "id": "928914dd-746c-45b0-9ec6-949bdb8e275c",
   "metadata": {
    "scrolled": true
   },
   "outputs": [],
   "source": [
    "today_date = datetime.today().strftime('%Y%m%d')\n",
    "outputFile = f\"Pentaquark_hepmc_output_{today_date}_p{mom4_protonBeam_lab.e}GeV_e{mom4_electronBeam_lab.e}GeV_two_body_kinematics_eta{pentaquarkEtaHigh}-{pentaquarkEtaLow}_{nEvents}evts.hepmc\"\n",
    "\n",
    "\n",
    "# Storage for jpsi transverse momentum (p_T) values\n",
    "jpsi_pt_values = []\n",
    "jpsi_eta_values = []\n",
    "jpsi_phi_values = []\n",
    "ele_pt_values = []\n",
    "ele_eta_values = []\n",
    "pos_pt_values = []\n",
    "proton_pt_values = []\n",
    "proton_eta_values = []\n",
    "reco_mass_values = [] \n",
    "reco_jpsimass_values = [] \n",
    "\n",
    "pc_eta_lab_values = [] \n",
    "pc_phi_lab_values = []\n",
    "pc_pt_lab_values = [] \n",
    "\n",
    "pc_eta_COM_values = [] \n",
    "pc_phi_COM_values = []\n",
    "pc_pt_COM_values = [] \n",
    "\n",
    "\n",
    "proton_p_lab_values = []\n",
    "proton_eta_lab_values = []\n",
    "    \n",
    "    # NOW. Let's print HEPMC3 script.\n",
    "with open(outputFile, \"w\") as f:\n",
    "    f.write(\n",
    "        \"\"\"\\\n",
    "HepMC::Version 3.02.06\n",
    "HepMC::Asciiv3-START_EVENT_LISTING\"\n",
    "W Weight\n",
    "\"\"\")\n",
    "        \n",
    "eventNum = 0\n",
    "trialNum = 0\n",
    "# Generate 100 pentaquark decays\n",
    "for _ in range(maxTrialNumbers):\n",
    "    trialNum = trialNum+1\n",
    "    \n",
    "    if eventNum > nEvents:\n",
    "        break\n",
    "    \n",
    "    # Kinamtics of the penta-quark:\n",
    "    theta_pc_COM = np.arccos(2 * np.random.rand() - 1)  # Random polar angle\n",
    "    phi_pc_COM = 2 * np.pi * np.random.rand() # random azimuthal angle\n",
    "    mom4_pc_COM = Momentum4(\n",
    "        energy_pc_COM, \n",
    "        mom_pc_COM * np.sin(theta_pc_COM) * np.cos(phi_pc_COM),\n",
    "        mom_pc_COM * np.sin(theta_pc_COM) * np.sin(phi_pc_COM),\n",
    "        mom_pc_COM * np.cos(theta_pc_COM)\n",
    "    )\n",
    "    mom4_pc_lab = mom4_pc_COM.boost( -beta_x_total_lab, -beta_y_total_lab, -beta_z_total_lab, beta = beta_magnitude_total_lab)\n",
    "    \n",
    "    if mom4_pc_lab.eta > pentaquarkEtaLow or mom4_pc_lab.eta < pentaquarkEtaHigh:\n",
    "        continue  # Skip this iteration\n",
    "    \n",
    "    #  Kinematics cuts for electrons and protons \n",
    "    \n",
    "    \n",
    "    # print (f\"COM frame: {mom4_pc_COM}\")\n",
    "    # print (f\"lab frame: {mom4_pc_lab}\")\n",
    "\n",
    "\n",
    "    # Define random decay angles for the J/psi in the pentaquark rest frame\n",
    "    theta_decay = np.arccos(2 * np.random.rand() - 1)  # Random polar angle\n",
    "    phi_decay = 2 * np.pi * np.random.rand()           # Random azimuthal angle\n",
    "\n",
    "    # Calculate the decay momentum in the rest frame\n",
    "    p_decay = np.sqrt((mass_pentaquark**2 - (mass_jpsi + mass_proton)**2) *\n",
    "                      (mass_pentaquark**2 - (mass_jpsi - mass_proton)**2)) / (2 * mass_pentaquark)\n",
    "\n",
    "    # Create 4-vectors for J/psi and proton in the pentaquark's rest frame\n",
    "    jpsi_pc_frame = Momentum4(\n",
    "        np.sqrt(mass_jpsi**2 + p_decay**2),\n",
    "        p_decay * np.sin(theta_decay) * np.cos(phi_decay),\n",
    "        p_decay * np.sin(theta_decay) * np.sin(phi_decay),\n",
    "        p_decay * np.cos(theta_decay)\n",
    "    )\n",
    "    beta_x_jpsi_pc_frame = jpsi_pc_frame.p_x / jpsi_pc_frame.e\n",
    "    beta_y_jpsi_pc_frame = jpsi_pc_frame.p_y / jpsi_pc_frame.e\n",
    "    beta_z_jpsi_pc_frame = jpsi_pc_frame.p_z / jpsi_pc_frame.e\n",
    "    beta_magnitude_jpsi_pc_frame = np.sqrt(beta_x_jpsi_pc_frame**2 + beta_y_jpsi_pc_frame**2 + beta_z_jpsi_pc_frame**2)\n",
    "\n",
    "    # print (\"e, px, py, pz = \", jpsi_pc_frame.e, jpsi_pc_frame.p_x, jpsi_pc_frame.p_y, jpsi_pc_frame.p_z)\n",
    "    # print (np.sqrt(jpsi_pc_frame.e**2 - jpsi_pc_frame.p_x**2 - jpsi_pc_frame.p_y**2 - jpsi_pc_frame.p_z**2))\n",
    "    \n",
    "    proton_pc_frame = Momentum4(\n",
    "        np.sqrt(mass_proton**2 + p_decay**2),\n",
    "        -jpsi_pc_frame.p_x,\n",
    "        -jpsi_pc_frame.p_y,\n",
    "        -jpsi_pc_frame.p_z\n",
    "    )\n",
    "\n",
    "    # Define random decay angles for e+e- in J/psi rest frame\n",
    "    theta_e_decay = np.arccos(2 * np.random.rand() - 1)  # Random polar angle\n",
    "    phi_e_decay = 2 * np.pi * np.random.rand()           # Random azimuthal angle\n",
    "    # Calculate the decay momentum in the rest frame\n",
    "    ele_decay = np.sqrt( (mass_jpsi/2)**2 - mass_electron**2 )\n",
    "\n",
    "    ele_jpsi_frame = Momentum4(\n",
    "        np.sqrt(mass_electron**2 + ele_decay**2),\n",
    "        ele_decay * np.sin(theta_e_decay) * np.cos(phi_e_decay),\n",
    "        ele_decay * np.sin(theta_e_decay) * np.sin(phi_e_decay),\n",
    "        ele_decay * np.cos(theta_e_decay)\n",
    "    )\n",
    "    pos_jpsi_frame = Momentum4(\n",
    "        np.sqrt(mass_electron**2 + ele_decay**2),\n",
    "       - ele_decay * np.sin(theta_e_decay) * np.cos(phi_e_decay),\n",
    "       - ele_decay * np.sin(theta_e_decay) * np.sin(phi_e_decay),\n",
    "       - ele_decay * np.cos(theta_e_decay)\n",
    "    )\n",
    "\n",
    "    ele_pc_frame = ele_jpsi_frame.boost(-beta_x_jpsi_pc_frame, -beta_y_jpsi_pc_frame, -beta_z_jpsi_pc_frame, beta=beta_magnitude_jpsi_pc_frame)\n",
    "    pos_pc_frame = pos_jpsi_frame.boost(-beta_x_jpsi_pc_frame, -beta_y_jpsi_pc_frame, -beta_z_jpsi_pc_frame, beta=beta_magnitude_jpsi_pc_frame)\n",
    "\n",
    "    # print ( ele_pc_frame.p_x + pos_pc_frame.p_x - jpsi_pc_frame.p_x)\n",
    "    \n",
    "    # Define random angles for the pentaquark's movement in the lab frame\n",
    "    # theta_lab =   np.random.uniform(pentaquarkTheta1, pentaquarkTheta2) \n",
    "    # phi_lab = np.random.uniform(0,2*np.pi)    \n",
    "        #target_pentaquark_momentum =  np.random.uniform(pentquarkEnergy1,pentquarkEnergy2)\n",
    "        \n",
    "    # Calculate lab frame momentum components for the pentaquark\n",
    "    # px_lab = target_pentaquark_momentum * np.sin(theta_lab) * np.cos(phi_lab)\n",
    "    # py_lab = target_pentaquark_momentum * np.sin(theta_lab) * np.sin(phi_lab)\n",
    "    # pz_lab = target_pentaquark_momentum * np.cos(theta_lab)\n",
    "    # pentaquark_energy_lab = np.sqrt(mass_pentaquark**2 + target_pentaquark_momentum**2)\n",
    "\n",
    "    # Create the pentaquark 4-momentum in the lab frame\n",
    "\n",
    "    # Calculate the beta vector and magnitude for the lab frame\n",
    "    beta_x = mom4_pc_lab.p_x/mom4_pc_lab.e\n",
    "    beta_y = mom4_pc_lab.p_y/mom4_pc_lab.e\n",
    "    beta_z = mom4_pc_lab.p_z/mom4_pc_lab.e\n",
    "    beta_magnitude = np.sqrt(beta_x**2 + beta_y**2 + beta_z**2)\n",
    "    \n",
    "    # Boost the J/psi to the lab frame\n",
    "    jpsi_lab = jpsi_pc_frame.boost(-beta_x, -beta_y, -beta_z, beta=beta_magnitude)\n",
    "    proton_lab = proton_pc_frame.boost(-beta_x, -beta_y, -beta_z, beta=beta_magnitude)\n",
    "    ele_lab = ele_pc_frame.boost(-beta_x, -beta_y, -beta_z, beta=beta_magnitude)\n",
    "    pos_lab = pos_pc_frame.boost(-beta_x, -beta_y, -beta_z, beta=beta_magnitude)\n",
    "    \n",
    "    # kinematic cuts:\n",
    "    if ( proton_lab.eta > 5 and proton_lab.eta < 7 \n",
    "        and ele_lab.eta > 0 and ele_lab.eta < 8 \n",
    "        and pos_lab.eta > 0 and pos_lab.eta < 8 ) == False :\n",
    "        continue\n",
    "\n",
    "    pc_eta_COM_values.append(mom4_pc_COM.eta)\n",
    "    pc_phi_COM_values.append(mom4_pc_COM.phi)\n",
    "    pc_pt_COM_values.append(mom4_pc_COM.p_t)\n",
    "    \n",
    "    pc_eta_lab_values.append(mom4_pc_lab.eta)\n",
    "    pc_phi_lab_values.append(mom4_pc_lab.phi)\n",
    "    pc_pt_lab_values.append(mom4_pc_lab.p_t)\n",
    "\n",
    "    # Calculate transverse momentum (p_T) of the J/psi in the lab frame\n",
    "    jpsi_pt = np.sqrt(jpsi_lab.p_x**2 + jpsi_lab.p_y**2)\n",
    "    jpsi_pt_values.append(jpsi_pt)\n",
    "    jpsi_eta_values.append(jpsi_lab.eta)\n",
    "    jpsi_phi_values.append(jpsi_lab.phi)\n",
    "\n",
    "    ele_pt_values.append(ele_lab.p_t)\n",
    "    ele_eta_values.append(ele_lab.eta)\n",
    "    pos_pt_values.append(pos_lab.p_t)\n",
    "    proton_pt_values.append(proton_lab.p_t)\n",
    "    proton_eta_values.append(proton_lab.eta)\n",
    "\n",
    "    proton_p_lab_values.append(proton_lab.p)\n",
    "    proton_eta_lab_values.append(proton_lab.eta)\n",
    "    # print ( ele_lab.p_x + pos_lab.p_x - jpsi_lab.p_x)\n",
    "\n",
    "    final_sum = ele_lab + pos_lab + proton_lab\n",
    "    # print (\"final mass = \", final_sum.m)\n",
    "    # print (\"final p = \", final_sum.p)\n",
    "    reco_mass_values.append(final_sum.m)\n",
    "    reco_jpsimass_values.append ( (ele_lab + pos_lab).m) \n",
    "\n",
    "    with open(outputFile, \"a\") as f:\n",
    "        f.write(f\"E {eventNum} 1 5\\n\")\n",
    "    eventNum = eventNum+1\n",
    "\n",
    "    with open(outputFile, \"a\") as f:\n",
    "        f.write(\n",
    "            \"\"\"\\\n",
    "U GEV MM\n",
    "W 1.0000000000000000000000e+00\n",
    "A 0 GenCrossSection 0.00000000e+00 0.00000000e+00 -1 -1\n",
    "A 0 GenPdfInfo 0 0 0.00000000e+00 0.00000000e+00 0.00000000e+00 0.00000000e+00 0.00000000e+00 0 0\n",
    "A 0 alphaQCD 0\n",
    "A 0 alphaQED 0\n",
    "A 0 event_scale 0\n",
    "A 0 signal_process_id 151\n",
    "\"\"\")\n",
    "    # proton beam energy at centre-of-mass frame\n",
    "    with open(outputFile, \"a\") as f:\n",
    "        f.write(f\"P 1 0 2212 {mom4_protonBeam_lab.p_x} {mom4_protonBeam_lab.p_y} {mom4_protonBeam_lab.p_z} {mom4_protonBeam_lab.e} {mom4_protonBeam_lab.m} 4\\n\")\n",
    "        f.write(f\"P 2 0 443 {mom4_electronBeam_lab.p_x} {mom4_electronBeam_lab.p_y} {mom4_electronBeam_lab.p_z} {mom4_electronBeam_lab.e} {mom4_electronBeam_lab.m} 4\\n\")\n",
    "        f.write(\"V -1 0 [1,2]\\n\")\n",
    "        f.write(f\"P 3 -1 2212 {proton_lab.p_x} {proton_lab.p_y} {proton_lab.p_z} {proton_lab.e} {proton_lab.m} 1\\n\")\n",
    "        f.write(f\"P 4 -1 11 {ele_lab.p_x} {ele_lab.p_y} {ele_lab.p_z} {ele_lab.e} {ele_lab.m} 1\\n\")\n",
    "        f.write(f\"P 5 -1 -11 {pos_lab.p_x} {pos_lab.p_y} {pos_lab.p_z} {pos_lab.e} {pos_lab.m} 1\\n\")\n",
    "with open(outputFile, \"a\") as f:\n",
    "    f.write(\"HepMC::Asciiv3-END_EVENT_LISTING\\n\")\n",
    "\n",
    "\n",
    "print( f\"{eventNum}/{trialNum} generated\")"
   ]
  },
  {
   "cell_type": "code",
   "execution_count": null,
   "id": "3fe84c8f-5447-41c4-9b0e-efe7f27c8eee",
   "metadata": {},
   "outputs": [],
   "source": []
  },
  {
   "cell_type": "code",
   "execution_count": null,
   "id": "de9a6fc7-d13c-4e7a-9b21-a427d75ae057",
   "metadata": {},
   "outputs": [],
   "source": []
  },
  {
   "cell_type": "code",
   "execution_count": null,
   "id": "43be69ca-926f-4166-a4e2-a80c1df1c692",
   "metadata": {},
   "outputs": [],
   "source": [
    "# Plot the distribution of J/psi p_T\n",
    "plt.hist(pc_eta_COM_values, bins=50, edgecolor='k')\n",
    "plt.xlabel(r\"eta of p_c in COM\")\n",
    "plt.ylabel(\"Frequency\")\n",
    "plt.show()"
   ]
  },
  {
   "cell_type": "code",
   "execution_count": null,
   "id": "cc39e612-8c15-4ce4-a8cf-3cdec20b5425",
   "metadata": {},
   "outputs": [],
   "source": [
    "# Plot the distribution of J/psi p_T\n",
    "plt.hist(pc_eta_lab_values, bins=50, edgecolor='k')\n",
    "plt.xlabel(r\"eta of p_c in lab\")\n",
    "plt.ylabel(\"Frequency\")\n",
    "plt.show()\n",
    "\n"
   ]
  },
  {
   "cell_type": "code",
   "execution_count": null,
   "id": "95da3fff-a04e-4738-9c3c-b0e541ce4c84",
   "metadata": {},
   "outputs": [],
   "source": [
    "\n",
    "plt.hist(pc_pt_COM_values, bins=50, edgecolor='k')\n",
    "plt.xlabel(r\"pt of p_c in COM\")\n",
    "plt.ylabel(\"Frequency\")\n",
    "plt.show()"
   ]
  },
  {
   "cell_type": "code",
   "execution_count": null,
   "id": "054f5593-31da-4951-920e-315e48ee128f",
   "metadata": {},
   "outputs": [],
   "source": [
    "\n",
    "plt.hist(pc_pt_lab_values, bins=50, edgecolor='k')\n",
    "plt.xlabel(r\"pt of p_c in lab frame\")\n",
    "plt.ylabel(\"Frequency\")\n",
    "plt.show()"
   ]
  },
  {
   "cell_type": "code",
   "execution_count": null,
   "id": "fb8ed0ac-fafd-4ff5-a263-9daa4da645d0",
   "metadata": {},
   "outputs": [],
   "source": [
    "plt.hist(pc_phi_COM_values, bins=50, edgecolor='k')\n",
    "plt.xlabel(r\"phi of p_c in COM\")\n",
    "plt.ylabel(\"Frequency\")\n",
    "plt.show()"
   ]
  },
  {
   "cell_type": "code",
   "execution_count": null,
   "id": "f58120de-c3d0-446f-9007-ba7a9a259ded",
   "metadata": {},
   "outputs": [],
   "source": [
    "plt.hist(pc_phi_lab_values, bins=50, edgecolor='k')\n",
    "plt.xlabel(r\"phi of p_c in lab\")\n",
    "plt.ylabel(\"Frequency\")\n",
    "plt.show()"
   ]
  },
  {
   "cell_type": "code",
   "execution_count": null,
   "id": "53c9d389-24d1-4c4f-9b23-e5612cc38ad4",
   "metadata": {},
   "outputs": [],
   "source": [
    "plt.hist(proton_p_lab_values, bins=50, edgecolor='k')\n",
    "plt.xlabel(r\"proton p in lab (GeV)\")\n",
    "plt.ylabel(\"Frequency\")\n",
    "plt.show()\n",
    "\n"
   ]
  },
  {
   "cell_type": "code",
   "execution_count": null,
   "id": "34db0bb7-ab80-42aa-924c-17fafa365d85",
   "metadata": {},
   "outputs": [],
   "source": [
    "# Plot the distribution of J/psi p_T\n",
    "plt.hist(jpsi_pt_values, bins=20, edgecolor='k')\n",
    "plt.xlabel(r\"$p_T$ of J/psi (GeV)\")\n",
    "plt.ylabel(\"Frequency\")\n",
    "plt.title(r\"Distribution of $p_T$ of J/psi from Pentaquark Decays\")\n",
    "plt.show()\n"
   ]
  },
  {
   "cell_type": "code",
   "execution_count": null,
   "id": "e7743c83-5d7d-4a60-8adf-36f8f97a2816",
   "metadata": {},
   "outputs": [],
   "source": [
    "# Plot the distribution of J/psi p_T\n",
    "plt.hist(jpsi_phi_values, bins=20, edgecolor='k')\n",
    "plt.xlabel(r\"phi of J/psi (GeV)\")\n",
    "plt.ylabel(\"Frequency\")\n",
    "plt.title(r\"Distribution of phi of J/psi from Pentaquark Decays\")\n",
    "plt.show()\n"
   ]
  },
  {
   "cell_type": "code",
   "execution_count": null,
   "id": "9f6fcbce-b496-4592-a9ee-8bdb31b598c8",
   "metadata": {
    "scrolled": true
   },
   "outputs": [],
   "source": [
    "# Plot the distribution of J/psi p_T\n",
    "plt.hist(jpsi_eta_values, bins=20, edgecolor='k')\n",
    "plt.xlabel(r\"$eta$ of J/psi\")\n",
    "plt.ylabel(\"Frequency\")\n",
    "plt.title(r\"Distribution of $eta$ of J/psi from Pentaquark Decays\")\n",
    "plt.show()\n"
   ]
  },
  {
   "cell_type": "code",
   "execution_count": null,
   "id": "735c2f8b-0234-4949-ae4f-869c636f5a59",
   "metadata": {
    "scrolled": true
   },
   "outputs": [],
   "source": [
    "plt.hist(ele_pt_values, bins=20, edgecolor='k')\n",
    "plt.xlabel(r\"$p_T$ of Electrons (GeV)\")\n",
    "plt.ylabel(\"Frequency\")\n",
    "plt.title(r\"Distribution of $p_T$ of electrons from Pentaquark Decays\")\n",
    "plt.show()"
   ]
  },
  {
   "cell_type": "code",
   "execution_count": null,
   "id": "0e09db2d-dbc2-4745-86f4-de303ea032db",
   "metadata": {},
   "outputs": [],
   "source": []
  },
  {
   "cell_type": "code",
   "execution_count": null,
   "id": "010db7d4-bf70-43e4-97a9-84b2ce763aee",
   "metadata": {},
   "outputs": [],
   "source": []
  },
  {
   "cell_type": "code",
   "execution_count": null,
   "id": "ac07ab2f-7a80-43d3-b5c0-560e395c2d1b",
   "metadata": {},
   "outputs": [],
   "source": []
  },
  {
   "cell_type": "code",
   "execution_count": null,
   "id": "d68ef6e1-1472-41c9-a0f2-cfee3bb5ad61",
   "metadata": {},
   "outputs": [],
   "source": []
  },
  {
   "cell_type": "code",
   "execution_count": null,
   "id": "53dd6936-bbf5-4b65-934b-b94ab8ef6adc",
   "metadata": {},
   "outputs": [],
   "source": []
  },
  {
   "cell_type": "code",
   "execution_count": null,
   "id": "71ad0fa2-d1f2-44ac-8955-4d1c53d9eff0",
   "metadata": {},
   "outputs": [],
   "source": []
  },
  {
   "cell_type": "code",
   "execution_count": null,
   "id": "e8d9ccd0-5034-4cbb-926b-b299a49319c9",
   "metadata": {},
   "outputs": [],
   "source": [
    "plt.hist(proton_eta_values, bins=20, edgecolor='k')\n",
    "plt.xlabel(r\"\\eta of Protons\")\n",
    "plt.ylabel(\"Frequency\")\n",
    "plt.title(r\"Distribution of $eta$ of protons from Pentaquark Decays\")\n",
    "plt.show()"
   ]
  },
  {
   "cell_type": "code",
   "execution_count": null,
   "id": "37afa052-0814-4698-bc45-4f549d63d720",
   "metadata": {
    "scrolled": true
   },
   "outputs": [],
   "source": [
    "plt.hist(ele_eta_values, bins=20, edgecolor='k')\n",
    "plt.xlabel(r\"eta of electrons \")\n",
    "plt.ylabel(\"Frequency\")\n",
    "plt.title(r\"Distribution of $eta$ of electrons from Pentaquark Decays\")\n",
    "plt.show()"
   ]
  },
  {
   "cell_type": "code",
   "execution_count": null,
   "id": "35b41a7e-6ed8-490b-9f59-f8f9d1b00469",
   "metadata": {},
   "outputs": [],
   "source": []
  },
  {
   "cell_type": "code",
   "execution_count": null,
   "id": "1d452e5d-6ace-4a25-88a3-2f99e8bb62df",
   "metadata": {},
   "outputs": [],
   "source": []
  },
  {
   "cell_type": "code",
   "execution_count": null,
   "id": "69d94107-6324-4430-9fad-227eb29fa56f",
   "metadata": {},
   "outputs": [],
   "source": [
    "plt.hist(proton_pt_values, bins=20, edgecolor='k')\n",
    "plt.xlabel(r\"$p_T$ of Protons (GeV)\")\n",
    "plt.ylabel(\"Frequency\")\n",
    "plt.title(r\"Distribution of $p_T$ of protons from Pentaquark Decays\")\n",
    "plt.show()"
   ]
  },
  {
   "cell_type": "code",
   "execution_count": null,
   "id": "51de43f0-e362-4595-baf4-0b2c1f4fc8ce",
   "metadata": {},
   "outputs": [],
   "source": []
  },
  {
   "cell_type": "code",
   "execution_count": null,
   "id": "fe09527c-00ea-42ac-a468-dc25209d5bf7",
   "metadata": {
    "scrolled": true
   },
   "outputs": [],
   "source": [
    "plt.hist(reco_mass_values, bins=20, edgecolor='k')\n",
    "plt.xlabel(r\"Mass of three body (GeV)\")\n",
    "plt.ylabel(\"Frequency\")\n",
    "plt.title(r\"three body mass\")\n",
    "plt.show()"
   ]
  },
  {
   "cell_type": "code",
   "execution_count": null,
   "id": "28cbb87b-0777-4514-8ff6-d106b3c9e335",
   "metadata": {},
   "outputs": [],
   "source": [
    "plt.hist(reco_jpsimass_values, bins=20, edgecolor='k')\n",
    "plt.xlabel(r\"Mass of e+e- (GeV)\")\n",
    "plt.ylabel(\"Frequency\")\n",
    "plt.title(r\"three body mass\")\n",
    "plt.show()"
   ]
  },
  {
   "cell_type": "code",
   "execution_count": null,
   "id": "a806d0f4-3a7d-4e7f-8c36-21f8f4e21c65",
   "metadata": {},
   "outputs": [],
   "source": [
    "jpsi_lab.m"
   ]
  },
  {
   "cell_type": "code",
   "execution_count": null,
   "id": "b4cbd9bf-8c4f-4c2f-82b2-3f2ec163319a",
   "metadata": {},
   "outputs": [],
   "source": []
  },
  {
   "cell_type": "code",
   "execution_count": null,
   "id": "80587d33-8750-43db-9e52-b226100eb907",
   "metadata": {},
   "outputs": [],
   "source": []
  },
  {
   "cell_type": "code",
   "execution_count": null,
   "id": "5e8d902d-4d30-4e45-9bfa-54e819f24da6",
   "metadata": {},
   "outputs": [],
   "source": []
  },
  {
   "cell_type": "code",
   "execution_count": null,
   "id": "7bb4fa84-d197-4dbb-9d27-dc31b73c2fe5",
   "metadata": {},
   "outputs": [],
   "source": []
  },
  {
   "cell_type": "code",
   "execution_count": null,
   "id": "a7cb7596-9e81-44cb-a3c8-f5527678be99",
   "metadata": {},
   "outputs": [],
   "source": []
  },
  {
   "cell_type": "code",
   "execution_count": null,
   "id": "7ae223f5-2921-4b44-bdb2-44bb90076039",
   "metadata": {},
   "outputs": [],
   "source": []
  },
  {
   "cell_type": "code",
   "execution_count": null,
   "id": "87512098-8722-4224-92bf-47e4d45d4aed",
   "metadata": {},
   "outputs": [],
   "source": []
  },
  {
   "cell_type": "code",
   "execution_count": null,
   "id": "4e8f4c9c-5296-4f9f-a1dd-2ea1b23f8db2",
   "metadata": {},
   "outputs": [],
   "source": []
  }
 ],
 "metadata": {
  "kernelspec": {
   "display_name": "Python 3 (ipykernel)",
   "language": "python",
   "name": "python3"
  },
  "language_info": {
   "codemirror_mode": {
    "name": "ipython",
    "version": 3
   },
   "file_extension": ".py",
   "mimetype": "text/x-python",
   "name": "python",
   "nbconvert_exporter": "python",
   "pygments_lexer": "ipython3",
   "version": "3.12.7"
  }
 },
 "nbformat": 4,
 "nbformat_minor": 5
}
